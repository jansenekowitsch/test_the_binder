{
 "cells": [
  {
   "cell_type": "markdown",
   "id": "24e8105a-bf88-4e05-bb47-c9183ca958fe",
   "metadata": {},
   "source": [
    "### Check for GPU"
   ]
  },
  {
   "cell_type": "code",
   "execution_count": null,
   "id": "bb46db04-1981-4711-9945-47e1198a6354",
   "metadata": {},
   "outputs": [],
   "source": [
    "import tensorflow as tf\n",
    "\n",
    "# Überprüfen, ob eine GPU verfügbar ist\n",
    "gpus = tf.config.list_physical_devices('GPU')\n",
    "\n",
    "if gpus:\n",
    "    print(\"GPU ist verfügbar und wird verwendet!\")\n",
    "    for gpu in gpus:\n",
    "        print(f\"GPU gefunden: {gpu}\")\n",
    "else:\n",
    "    print(\"Keine GPU gefunden. TensorFlow verwendet die CPU.\")\n"
   ]
  },
  {
   "cell_type": "markdown",
   "id": "8833517a-fac3-429c-822a-3f922e2d81d0",
   "metadata": {},
   "source": [
    "### XOR-Solution"
   ]
  },
  {
   "cell_type": "code",
   "execution_count": null,
   "id": "b72a8c2a-183e-4dd4-adc2-a86ba4d9d5b7",
   "metadata": {},
   "outputs": [],
   "source": [
    "import numpy as np\n",
    "from keras.models import Sequential\n",
    "from keras.layers import Dense\n",
    "from keras.optimizers import Adam\n",
    "\n",
    "# Define the XOR input and output\n",
    "X = np.array([[0, 0], [0, 1], [1, 0], [1, 1]])\n",
    "y = np.array([0, 1, 1, 0])\n",
    "\n",
    "# Create the neural network model\n",
    "model = Sequential()\n",
    "\n",
    "# Add input layer and a hidden layer with 4 neurons and ReLU activation\n",
    "model.add(Dense(4, input_dim=2, activation='relu'))\n",
    "\n",
    "# Add output layer with 1 neuron and sigmoid activation (binary output)\n",
    "model.add(Dense(1, activation='sigmoid'))\n",
    "\n",
    "# Compile the model\n",
    "model.compile(loss='binary_crossentropy', optimizer=Adam(), metrics=['accuracy'])\n",
    "\n",
    "# Train the model\n",
    "model.fit(X, y, epochs=10000, verbose=1)\n",
    "\n",
    "# Evaluate the model\n",
    "predictions = model.predict(X)\n",
    "print(\"Predictions:\")\n",
    "print(predictions)\n",
    "\n",
    "# Round the predictions to 0 or 1\n",
    "rounded_predictions = (predictions > 0.5).astype(int)\n",
    "print(\"Rounded Predictions:\")\n",
    "print(rounded_predictions)\n",
    "\n",
    "# Evaluate the model performance on the same dataset\n",
    "loss, accuracy = model.evaluate(X, y, verbose=0)\n",
    "print(f\"Loss: {loss}, Accuracy: {accuracy}\")\n"
   ]
  }
 ],
 "metadata": {
  "kernelspec": {
   "display_name": "Python 3 (ipykernel)",
   "language": "python",
   "name": "python3"
  },
  "language_info": {
   "codemirror_mode": {
    "name": "ipython",
    "version": 3
   },
   "file_extension": ".py",
   "mimetype": "text/x-python",
   "name": "python",
   "nbconvert_exporter": "python",
   "pygments_lexer": "ipython3",
   "version": "3.9.19"
  }
 },
 "nbformat": 4,
 "nbformat_minor": 5
}
