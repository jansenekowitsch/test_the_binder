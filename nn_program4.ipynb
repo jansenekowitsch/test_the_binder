{
 "cells": [
  {
   "cell_type": "markdown",
   "id": "a964f13c-5978-4ae8-8d6b-37cbe8cc7685",
   "metadata": {},
   "source": [
    "# Neural Network - MNIST dataset"
   ]
  },
  {
   "cell_type": "markdown",
   "id": "92f1cae9-e438-43fc-87f8-f397aa5b31e9",
   "metadata": {},
   "source": [
    "### Read in data"
   ]
  },
  {
   "cell_type": "code",
   "execution_count": null,
   "id": "45fad67e-c5ce-4b1f-8c12-11483f904337",
   "metadata": {},
   "outputs": [],
   "source": [
    "import numpy as np\n",
    "import pandas as pd\n",
    "from matplotlib import pyplot as plt\n",
    "\n",
    "data = pd.read_csv('train2.csv')\n",
    "data.head(1)"
   ]
  },
  {
   "cell_type": "code",
   "execution_count": null,
   "id": "299a4076-fde7-4c29-8415-530c409782ea",
   "metadata": {},
   "outputs": [],
   "source": [
    "data_test = pd.read_csv('test2.csv')\n",
    "data_test.head()"
   ]
  },
  {
   "cell_type": "code",
   "execution_count": null,
   "id": "22bef6b2-412b-4674-820c-541be03e450c",
   "metadata": {},
   "outputs": [],
   "source": [
    "data_test.shape"
   ]
  },
  {
   "cell_type": "code",
   "execution_count": null,
   "id": "f6c626e3-bdde-474e-a57f-acfca6a32c5f",
   "metadata": {},
   "outputs": [],
   "source": [
    "data_test = np.array(data_test)"
   ]
  },
  {
   "cell_type": "markdown",
   "id": "6972143e-9105-4e85-bde2-a1c1822d7032",
   "metadata": {},
   "source": [
    "### Normalize data"
   ]
  },
  {
   "cell_type": "code",
   "execution_count": null,
   "id": "71850201-4b10-4772-900a-59056cdc5b0c",
   "metadata": {},
   "outputs": [],
   "source": [
    "X_test = data_test.T\n",
    "X_test = X_test / 255.\n",
    "_,m_test = X_test.shape"
   ]
  },
  {
   "cell_type": "code",
   "execution_count": null,
   "id": "2fd2cd9c-fa70-4bdf-959a-b0d657f6cf67",
   "metadata": {},
   "outputs": [],
   "source": [
    "data = np.array(data)\n",
    "m, n = data.shape\n",
    "\n",
    "data_train = data.T\n",
    "Y_train = data_train[0]\n",
    "X_train = data_train[1:n]\n",
    "X_train = X_train / 255.\n",
    "_,m_train = X_train.shape"
   ]
  },
  {
   "cell_type": "code",
   "execution_count": null,
   "id": "7409e4b4-0f06-4255-9be8-d6ced695ef21",
   "metadata": {},
   "outputs": [],
   "source": [
    "data.shape"
   ]
  },
  {
   "cell_type": "code",
   "execution_count": null,
   "id": "4d08c2e2-567d-40c6-865c-212af984d2e5",
   "metadata": {},
   "outputs": [],
   "source": [
    "Y_train"
   ]
  },
  {
   "cell_type": "markdown",
   "id": "7e4d2ce9-7109-4b95-a06e-b9c0c8f09c4c",
   "metadata": {},
   "source": [
    "### Initialize neural network - weights and biases"
   ]
  },
  {
   "cell_type": "code",
   "execution_count": null,
   "id": "b0b06275-aa69-4a05-9f6d-b74c6dd9a1ef",
   "metadata": {},
   "outputs": [],
   "source": [
    "def init_params():\n",
    "    W1 = np.random.rand(10, 784) - 0.5\n",
    "    b1 = np.random.rand(10, 1) - 0.5\n",
    "    W2 = np.random.rand(10, 10) - 0.5\n",
    "    b2 = np.random.rand(10, 1) - 0.5\n",
    "    return W1, b1, W2, b2"
   ]
  },
  {
   "cell_type": "markdown",
   "id": "769008ff-2856-4d76-b88a-1ec214e615c1",
   "metadata": {},
   "source": [
    "### Definition of ReLU, softmax and derivative of ReLU"
   ]
  },
  {
   "cell_type": "code",
   "execution_count": null,
   "id": "59aea036-10d5-4c3b-9746-a12d290f7724",
   "metadata": {},
   "outputs": [],
   "source": [
    "def ReLU(Z):\n",
    "    return np.maximum(Z, 0)\n",
    "\n",
    "def softmax(Z):\n",
    "    A = np.exp(Z) / sum(np.exp(Z))\n",
    "    return A\n",
    "\n",
    "#def ReLU_deriv(Z):\n",
    "#    return Z > 0\n",
    "\n",
    "def derivative_ReLU(Z):\n",
    "    return np.where(Z > 0, 1, 0)"
   ]
  },
  {
   "cell_type": "markdown",
   "id": "f5948581-ea6f-4158-b586-fe486e27592d",
   "metadata": {},
   "source": [
    "### One-Hot-Encoding"
   ]
  },
  {
   "cell_type": "code",
   "execution_count": null,
   "id": "eda82ffa-1fb7-4876-a3be-51154bd70c9e",
   "metadata": {},
   "outputs": [],
   "source": [
    "def one_hot(Y):\n",
    "    one_hot_Y = np.zeros((Y.size, Y.max() + 1))\n",
    "    one_hot_Y[np.arange(Y.size), Y] = 1\n",
    "    one_hot_Y = one_hot_Y.T\n",
    "    return one_hot_Y"
   ]
  },
  {
   "cell_type": "markdown",
   "id": "1156fe03-3057-418f-ad77-e571129df9bf",
   "metadata": {},
   "source": [
    "### Forwardpropagation"
   ]
  },
  {
   "cell_type": "code",
   "execution_count": null,
   "id": "a5749062-7e4b-4051-8635-21e08dc5cfc7",
   "metadata": {},
   "outputs": [],
   "source": [
    "def forward_prop(W1, b1, W2, b2, X):\n",
    "    Z1 = W1.dot(X) + b1\n",
    "    A1 = ReLU(Z1)\n",
    "    Z2 = W2.dot(A1) + b2\n",
    "    A2 = softmax(Z2)\n",
    "    return Z1, A1, Z2, A2"
   ]
  },
  {
   "cell_type": "markdown",
   "id": "d2337183-c7b4-4d1d-8637-5071379b15a5",
   "metadata": {},
   "source": [
    "### Backwardspropagation"
   ]
  },
  {
   "cell_type": "code",
   "execution_count": null,
   "id": "120e5dce-741a-46ce-9027-a6e9251ae1da",
   "metadata": {},
   "outputs": [],
   "source": [
    "def backward_prop(Z1, A1, Z2, A2, W1, W2, X, Y):\n",
    "    one_hot_Y = one_hot(Y)\n",
    "    dZ2 = A2 - one_hot_Y\n",
    "    dW2 = 1 / m * dZ2.dot(A1.T)\n",
    "    db2 = 1 / m * np.sum(dZ2)\n",
    "    dZ1 = W2.T.dot(dZ2) * derivative_ReLU(Z1)\n",
    "    dW1 = 1 / m * dZ1.dot(X.T)\n",
    "    db1 = 1 / m * np.sum(dZ1)\n",
    "    return dW1, db1, dW2, db2"
   ]
  },
  {
   "cell_type": "markdown",
   "id": "8ee976e6-1cbd-4429-bf6f-8ccda1a92d81",
   "metadata": {},
   "source": [
    "### Adjust weights and biases"
   ]
  },
  {
   "cell_type": "code",
   "execution_count": null,
   "id": "df45b46a-06fa-4753-b7c0-05531ba4b33c",
   "metadata": {},
   "outputs": [],
   "source": [
    "def update_params(W1, b1, W2, b2, dW1, db1, dW2, db2, alpha):\n",
    "    W1 = W1 - alpha * dW1\n",
    "    b1 = b1 - alpha * db1    \n",
    "    W2 = W2 - alpha * dW2  \n",
    "    b2 = b2 - alpha * db2    \n",
    "    return W1, b1, W2, b2"
   ]
  },
  {
   "cell_type": "code",
   "execution_count": null,
   "id": "9e9c78c1-d7ec-48f1-a58a-1579400293a7",
   "metadata": {},
   "outputs": [],
   "source": [
    "def get_predictions(A2):\n",
    "    return np.argmax(A2, 0)\n",
    "\n",
    "def get_accuracy(predictions, Y):\n",
    "    print(predictions, Y)\n",
    "    return np.sum(predictions == Y) / Y.size\n",
    "\n",
    "def gradient_descent(X, Y, alpha, iterations):\n",
    "    W1, b1, W2, b2 = init_params()\n",
    "    for i in range(iterations):\n",
    "        Z1, A1, Z2, A2 = forward_prop(W1, b1, W2, b2, X)\n",
    "        dW1, db1, dW2, db2 = backward_prop(Z1, A1, Z2, A2, W1, W2, X, Y)\n",
    "        W1, b1, W2, b2 = update_params(W1, b1, W2, b2, dW1, db1, dW2, db2, alpha)\n",
    "        if i % 10 == 0:\n",
    "            print(\"Iteration: \", i)\n",
    "            predictions = get_predictions(A2)\n",
    "            print(get_accuracy(predictions, Y))\n",
    "    return W1, b1, W2, b2"
   ]
  },
  {
   "cell_type": "code",
   "execution_count": null,
   "id": "acaf8015-652b-4094-9868-ab8332fe5fe3",
   "metadata": {},
   "outputs": [],
   "source": [
    "W1, b1, W2, b2 = gradient_descent(X_train, Y_train, 0.10, 500)"
   ]
  },
  {
   "cell_type": "code",
   "execution_count": null,
   "id": "85a37912-0a69-4031-93b2-3917825c1077",
   "metadata": {},
   "outputs": [],
   "source": []
  },
  {
   "cell_type": "markdown",
   "id": "c5a40bce-4c7e-4e67-b63f-a35f4f0caf2c",
   "metadata": {},
   "source": [
    "### Vorhersagen auf Testdaten"
   ]
  },
  {
   "cell_type": "code",
   "execution_count": null,
   "id": "c5056744-952d-4dd7-a0f4-9600dd7ba112",
   "metadata": {},
   "outputs": [],
   "source": [
    "def make_predictions(X, W1, b1, W2, b2):\n",
    "    _, _,  _, A2 = forward_prop(W1, b1, W2, b2, X)\n",
    "    predictions = get_predictions(A2)\n",
    "    return predictions"
   ]
  },
  {
   "cell_type": "code",
   "execution_count": null,
   "id": "a9bf9d1f-b899-489c-9ede-68586ab0aa9e",
   "metadata": {},
   "outputs": [],
   "source": [
    "def test_predictions(index, W1, b1, W2, b2):\n",
    "    current_image = X_train[:, index, None]\n",
    "    prediction = make_predictions(X_train[:, index, None], W1, b1, W2, b2)\n",
    "    label = Y_train[index]\n",
    "    print('Prediction:', prediction)\n",
    "    print('Label:', label)\n",
    "    \n",
    "    current_image = current_image.reshape((28, 28))* 255\n",
    "    plt.gray()\n",
    "    plt.imshow(current_image, interpolation = 'nearest')\n",
    "    plt.show()"
   ]
  },
  {
   "cell_type": "code",
   "execution_count": null,
   "id": "e9272125-b1f1-4c32-abc0-3f47e452ac4e",
   "metadata": {},
   "outputs": [],
   "source": [
    "test_predictions(50, W1, b1, W2, b2)"
   ]
  },
  {
   "cell_type": "code",
   "execution_count": null,
   "id": "fa3a56ac-8aee-44a6-b0ae-22daef41958c",
   "metadata": {},
   "outputs": [],
   "source": [
    "def test_predictions_test(index, W1, b1, W2, b2):\n",
    "    current_image = X_test[:, index, None]\n",
    "    prediction = make_predictions(X_test[:, index, None], W1, b1, W2, b2)\n",
    "    #label = y_test[index]\n",
    "    print('Prediction:', prediction)\n",
    "    #print('Label:', label)\n",
    "    \n",
    "    current_image = current_image.reshape((28, 28))* 255\n",
    "    plt.gray()\n",
    "    plt.imshow(current_image, interpolation = 'nearest')\n",
    "    plt.show()"
   ]
  },
  {
   "cell_type": "code",
   "execution_count": null,
   "id": "5ac28e6b-751e-4307-a2e2-1dc9c53d53c1",
   "metadata": {},
   "outputs": [],
   "source": [
    "X_test.shape"
   ]
  },
  {
   "cell_type": "code",
   "execution_count": null,
   "id": "c3fb152b-5b80-4cf7-a0a3-480f24940a77",
   "metadata": {},
   "outputs": [],
   "source": [
    "X_train.shape"
   ]
  },
  {
   "cell_type": "code",
   "execution_count": null,
   "id": "60939668-a6f1-4c73-93f4-a38ad4827c8f",
   "metadata": {},
   "outputs": [],
   "source": [
    "test_predictions_test(1500, W1, b1, W2, b2)"
   ]
  }
 ],
 "metadata": {
  "kernelspec": {
   "display_name": "Python 3 (ipykernel)",
   "language": "python",
   "name": "python3"
  },
  "language_info": {
   "codemirror_mode": {
    "name": "ipython",
    "version": 3
   },
   "file_extension": ".py",
   "mimetype": "text/x-python",
   "name": "python",
   "nbconvert_exporter": "python",
   "pygments_lexer": "ipython3",
   "version": "3.9.21"
  }
 },
 "nbformat": 4,
 "nbformat_minor": 5
}
